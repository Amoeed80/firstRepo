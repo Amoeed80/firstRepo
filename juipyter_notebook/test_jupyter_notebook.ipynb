{
 "cells": [
  {
   "cell_type": "markdown",
   "id": "4421789e",
   "metadata": {},
   "source": [
    "# Python Learning\n",
    "## How to use jupyter Note Book\n",
    "### Basiscs of Python\n",
    "**01 - My fist program** "
   ]
  },
  {
   "cell_type": "code",
   "execution_count": 1,
   "id": "8a50ea62",
   "metadata": {
    "scrolled": true
   },
   "outputs": [
    {
     "name": "stdout",
     "output_type": "stream",
     "text": [
      "8\n"
     ]
    }
   ],
   "source": [
    "print(2+6)"
   ]
  },
  {
   "cell_type": "markdown",
   "id": "0f66dbe6",
   "metadata": {},
   "source": [
    "**02-Operators**"
   ]
  },
  {
   "cell_type": "code",
   "execution_count": 2,
   "id": "8afe1a20",
   "metadata": {},
   "outputs": [
    {
     "name": "stdout",
     "output_type": "stream",
     "text": [
      "17\n",
      "3\n",
      "15\n",
      "1.4\n",
      "1\n",
      "1\n",
      "243\n"
     ]
    }
   ],
   "source": [
    "print (8+9) #add\n",
    "print (9-6) #sub\n",
    "print (5*3) #mul\n",
    "print (7/5) #div_points/float\n",
    "print (7//5) #div_whole_number\n",
    "print (9%2) #mod_/_remainder\n",
    "print (3**5) #power_operator"
   ]
  },
  {
   "cell_type": "markdown",
   "id": "0d177b8a",
   "metadata": {},
   "source": [
    "*PEMDAS //operators priority//\n",
    "Parenthesis, Exponents, Multiply, Divide, Addition, Subtraction\n",
    "left to right sequence for M D & A S*"
   ]
  },
  {
   "cell_type": "markdown",
   "id": "70fcf204",
   "metadata": {},
   "source": [
    "**03&04_strings and comments**"
   ]
  },
  {
   "cell_type": "code",
   "execution_count": 3,
   "id": "cfa3b24b",
   "metadata": {},
   "outputs": [
    {
     "name": "stdout",
     "output_type": "stream",
     "text": [
      "Hello World\n",
      "test for single\n",
      "test for double\n",
      "test for tripple quote\n"
     ]
    }
   ],
   "source": [
    "print(\"Hello World\")\n",
    "######################\n",
    "\n",
    "print('test for single')\n",
    "print(\"test for double\")\n",
    "print('''test for tripple quote''') \n",
    "\n",
    "\n",
    "# to comment out use CTRL + /"
   ]
  },
  {
   "cell_type": "markdown",
   "id": "ad7e0c48",
   "metadata": {},
   "source": [
    "**05_variables**"
   ]
  },
  {
   "cell_type": "code",
   "execution_count": 4,
   "id": "cafeb6a2",
   "metadata": {},
   "outputs": [
    {
     "name": "stdout",
     "output_type": "stream",
     "text": [
      "X =  5\n",
      "<class 'int'>\n",
      "fruit basket has  Apples the quantity is  8\n"
     ]
    }
   ],
   "source": [
    "# variables : Objects containing specific values\n",
    "x = 3 + 2\n",
    "print (\"X = \", (x))\n",
    "print (type(x))\n",
    "\n",
    "# print_type_class\n",
    "\n",
    "# Rules to a variable\n",
    "# 1 - the variable should contain letters, numbers or underscores\n",
    "# 2 - do not start with numbers\n",
    "# 3 - spaces are not allowed\n",
    "# 4 - do not use keywords used in functions\n",
    "# 5 - short and descriptive\n",
    "# 6 - case sensitivity (lowercase letters preffered)\n",
    "\n",
    "fruit_basket = \"Apples\"\n",
    "quantity = 8\n",
    "\n",
    "print (\"fruit basket has \", fruit_basket, \"the quantity is \", quantity)\n"
   ]
  },
  {
   "cell_type": "markdown",
   "id": "eb4c4dcf",
   "metadata": {},
   "source": [
    "**input_variables**"
   ]
  },
  {
   "cell_type": "code",
   "execution_count": 5,
   "id": "bd5743e9",
   "metadata": {},
   "outputs": [
    {
     "name": "stdout",
     "output_type": "stream",
     "text": [
      "What is you name? Moeed\n",
      "Hello!  Moeed\n",
      "What is your name? Moeed\n",
      "How old are you? 15\n",
      "Hello! Moeed You are still young\n"
     ]
    }
   ],
   "source": [
    "# fruit_basket = \"Mangoes\"\n",
    "# print(fruit_basket)\n",
    "\n",
    "# # input function _simple\n",
    "# fruit_basket = input(\"which is your fav fruit? \")\n",
    "# print (fruit_basket)\n",
    "\n",
    "# input function of 2nd stage\n",
    "name = input(\"What is you name? \")\n",
    "greet = \"Hello! \"\n",
    "print(greet,name)\n",
    "\n",
    "# input function of 3rd stage\n",
    "name = input(\"What is your name? \")\n",
    "age = input (\"How old are you? \")\n",
    "greet = \"Hello!\"\n",
    "\n",
    "print (greet, name, \"You are still young\")\n",
    "\n"
   ]
  },
  {
   "cell_type": "markdown",
   "id": "02acdd3d",
   "metadata": {},
   "source": [
    "**07_conditional_logics**"
   ]
  },
  {
   "cell_type": "code",
   "execution_count": 6,
   "id": "74c62de7",
   "metadata": {},
   "outputs": [
    {
     "name": "stdout",
     "output_type": "stream",
     "text": [
      "What is your age? 6\n",
      "True\n"
     ]
    }
   ],
   "source": [
    "# LOGICAL OPERATORS (true/false , 0/1, yes/no)\n",
    "# equal to                   ==\n",
    "# not equal to               !=\n",
    "# less than                  <\n",
    "# greater than               >\n",
    "# less than & greater than <= & >=\n",
    "\n",
    "\n",
    "# example for logical operators\n",
    "ali_age = int(input (\"What is your age? \"))\n",
    "age_for_school = 5\n",
    "print(ali_age >= age_for_school)"
   ]
  },
  {
   "cell_type": "markdown",
   "id": "08ee212d",
   "metadata": {},
   "source": [
    "**08_type_conversion**"
   ]
  },
  {
   "cell_type": "code",
   "execution_count": 7,
   "id": "82043817",
   "metadata": {},
   "outputs": [
    {
     "name": "stdout",
     "output_type": "stream",
     "text": [
      "<class 'float'>\n",
      "What is your age? 5\n",
      "Your age is:  5 <class 'int'>\n"
     ]
    }
   ],
   "source": [
    "x= 5\n",
    "y= 6.6\n",
    "z= \"Hello\"\n",
    "\n",
    "# implicit type conversion\n",
    "x= x*y\n",
    "\n",
    "print (type(x))\n",
    "\n",
    "# explicit type conversion\n",
    "age= input(\"What is your age? \")\n",
    "print (\"Your age is: \", age, type(int(age)))"
   ]
  },
  {
   "cell_type": "markdown",
   "id": "66142c7c",
   "metadata": {},
   "source": [
    "**09_if_elif_else**"
   ]
  },
  {
   "cell_type": "code",
   "execution_count": 8,
   "id": "d0b0ae4d",
   "metadata": {},
   "outputs": [
    {
     "name": "stdout",
     "output_type": "stream",
     "text": [
      "What is the age of Ali? 5\n",
      "Ali can go to KG School!\n"
     ]
    }
   ],
   "source": [
    "Ali_age = int (input (\"What is the age of Ali? \"))\n",
    "Kg_school = 5\n",
    "Higher_school = 6\n",
    "min_age = 4\n",
    "\n",
    "if Ali_age >= min_age or Ali_age == Kg_school:\n",
    "    print(\"Ali can go to KG School!\")\n",
    "elif Ali_age >=6:\n",
    "    print(\"Ali can go to Higher School!\")\n",
    "else:\n",
    "    print (\"Ali is still a baby! Take care of him!\")"
   ]
  },
  {
   "cell_type": "markdown",
   "id": "db19ac4f",
   "metadata": {},
   "source": [
    "**10_functions**"
   ]
  },
  {
   "cell_type": "code",
   "execution_count": 9,
   "id": "57736118",
   "metadata": {},
   "outputs": [
    {
     "name": "stdout",
     "output_type": "stream",
     "text": [
      "Enter your age? 5\n",
      "Your perdicted age is:  25\n"
     ]
    }
   ],
   "source": [
    "# defining a function\n",
    "#  1st way of doing it\n",
    "# def print_msg ():\n",
    "#      print (\"Learning Python!\")\n",
    "# print_msg()\n",
    "\n",
    "# # 2nd way\n",
    "# def print_msg2():\n",
    "#     text = \"Learning with ammar\"\n",
    "#     print(text)\n",
    "# print_msg2()\n",
    "\n",
    "# \n",
    "\n",
    "# defining a function for future\n",
    "\n",
    "def age_perdiction (value):\n",
    "    new_age = value + 20\n",
    "    return (new_age)\n",
    "enter_age = int (input(\"Enter your age? \"))\n",
    "perdicted_age = age_perdiction(enter_age)\n",
    "print(\"Your perdicted age is: \",perdicted_age)"
   ]
  },
  {
   "cell_type": "markdown",
   "id": "f5b0ff35",
   "metadata": {},
   "source": [
    "**11_loops**"
   ]
  },
  {
   "cell_type": "code",
   "execution_count": 10,
   "id": "8c16cdd4",
   "metadata": {},
   "outputs": [
    {
     "name": "stdout",
     "output_type": "stream",
     "text": [
      "0\n",
      "1\n",
      "2\n",
      "3\n",
      "4\n",
      "5\n",
      "6\n",
      "7\n",
      "8\n",
      "9\n",
      "10\n",
      "Mon\n",
      "Tue\n",
      "Thu\n",
      "Fri\n",
      "Sat\n",
      "Sun\n"
     ]
    }
   ],
   "source": [
    "# Two types\n",
    "# While loop and For loop\n",
    "\n",
    "x = 0\n",
    "while(0<=x<=10):\n",
    "      print (x)\n",
    "      x= x+1\n",
    "\n",
    "\n",
    "# For loop\n",
    "\n",
    "days = ['Mon', 'Tue', 'Wed', 'Thu', 'Fri', 'Sat', 'Sun']\n",
    "for i in days:\n",
    "#     if i=='Fri': break #to skip the specific index in list.\n",
    "    if i == 'Wed':continue\n",
    "    print(i)"
   ]
  },
  {
   "cell_type": "markdown",
   "id": "1aed9955",
   "metadata": {},
   "source": [
    "**12_import_library**"
   ]
  },
  {
   "cell_type": "code",
   "execution_count": 11,
   "id": "8de714d5",
   "metadata": {},
   "outputs": [
    {
     "name": "stdout",
     "output_type": "stream",
     "text": [
      "the value of pi is: 3.141592653589793\n",
      "the mean of the above array is: 328\n"
     ]
    }
   ],
   "source": [
    "# if you want to calculate the value of pi\n",
    "\n",
    "import math\n",
    "print(\"the value of pi is:\",math.pi)\n",
    "\n",
    "import statistics\n",
    "num_array = [100,220,330,440,550]\n",
    "print(\"the mean of the above array is:\", statistics.mean(num_array))\n",
    "\n",
    "# numpy, pandas are important library for visualization of data"
   ]
  }
 ],
 "metadata": {
  "kernelspec": {
   "display_name": "Python 3 (ipykernel)",
   "language": "python",
   "name": "python3"
  },
  "language_info": {
   "codemirror_mode": {
    "name": "ipython",
    "version": 3
   },
   "file_extension": ".py",
   "mimetype": "text/x-python",
   "name": "python",
   "nbconvert_exporter": "python",
   "pygments_lexer": "ipython3",
   "version": "3.9.7"
  }
 },
 "nbformat": 4,
 "nbformat_minor": 5
}
