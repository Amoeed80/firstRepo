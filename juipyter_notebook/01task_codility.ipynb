{
 "cells": [
  {
   "cell_type": "markdown",
   "id": "a3291070",
   "metadata": {},
   "source": [
    "## Binary Gap problem Codility"
   ]
  },
  {
   "cell_type": "code",
   "execution_count": 5,
   "id": "dc2c0eea",
   "metadata": {},
   "outputs": [
    {
     "name": "stdout",
     "output_type": "stream",
     "text": [
      "5\n"
     ]
    }
   ],
   "source": [
    "def solution (N):\n",
    "    if not(isinstance (N,int)) or N <= 1 or N>=2147483647:\n",
    "        return (0)\n",
    "    N = bin (N)[2:]\n",
    "    b=0\n",
    "    maxb = 0\n",
    "    for i in N:\n",
    "        if int(i) == 0:\n",
    "            b = b+1\n",
    "        elif int (i) == 1:\n",
    "            maxb = max(b,maxb)\n",
    "            b= 0\n",
    "    return (maxb)\n",
    "\n",
    "print (solution(1041))"
   ]
  },
  {
   "cell_type": "markdown",
   "id": "a1666e76",
   "metadata": {},
   "source": [
    "## Lesson 2 Q1: Cyclic Rotation"
   ]
  },
  {
   "cell_type": "code",
   "execution_count": null,
   "id": "f5f852aa",
   "metadata": {},
   "outputs": [],
   "source": [
    "def solution(A, K):\n",
    "    if A == []:\n",
    "        return 0\n",
    "    length = len(A)\n",
    "    tmp = [None]*length\n",
    "    if not(isinstance (length,int)) or length <= 0 or length>=100 or K <=0 or K>= 100  :\n",
    "        return (0)\n",
    "    for i in range (0,length):\n",
    "        if not(isinstance(A[i], int)) or A[i]<= -abs(1000) or A[i] >= 1000:\n",
    "            return (0)\n",
    "        tmp[(i+K)%length] = A[i]\n",
    "    return tmp\n",
    "A = [3,8,9,7,6]\n",
    "K = 120\n",
    "print (solution(A,K))"
   ]
  },
  {
   "cell_type": "code",
   "execution_count": null,
   "id": "2b4ac6ba",
   "metadata": {},
   "outputs": [],
   "source": [
    "def solution(A, K):\n",
    "    length = len(A)\n",
    "    tmp = K % length\n",
    "    return A[length-tmp:]+A[:length-tmp]\n",
    "pass\n",
    "A = [3,8,9,7,6]\n",
    "K = 3\n",
    "print (solution(A,K))"
   ]
  },
  {
   "cell_type": "code",
   "execution_count": null,
   "id": "a38fe37a",
   "metadata": {},
   "outputs": [],
   "source": [
    "def solution (A,K):\n",
    "    N=len(A)\n",
    "    B = [None]*N\n",
    "    for i in range (0,N):\n",
    "        B[(i+K)%N]=A[i]\n",
    "    return (B)\n",
    "pass\n",
    "A = [3,8,9,7,6]\n",
    "K = 15\n",
    "print (solution(A,K))"
   ]
  },
  {
   "cell_type": "code",
   "execution_count": null,
   "id": "c1e2822d",
   "metadata": {},
   "outputs": [],
   "source": [
    "def solution (A,K):\n",
    "    length = len(A)\n",
    "    \n",
    "    rotatedArray = [None]*length\n",
    "    while (K > 0):\n",
    "        lastElement = A[length - 1]\n",
    "        rotatedArray[0] = lastElement\n",
    "#         for i in range (0,length -1):\n",
    "            \n",
    "#             j = j+i\n",
    "#             rotatedArray[j]=A[i]\n",
    "#         A = rotatedArray\n",
    "#         K = K-1\n",
    "#     return (A)\n",
    "# A = [3,8,9,7,6]\n",
    "# K = 3\n",
    "# print (solution(A,K))\n",
    "    "
   ]
  },
  {
   "cell_type": "code",
   "execution_count": 4,
   "id": "b0188074",
   "metadata": {},
   "outputs": [
    {
     "name": "stdout",
     "output_type": "stream",
     "text": [
      "[2, 3, 54, 5, 67, 2, 1, 4, 5, 6, 66, 7, 3]\n"
     ]
    }
   ],
   "source": [
    "def solution (A,K):\n",
    "    if A == []:\n",
    "        return (0)\n",
    "    B = len(A)\n",
    "    rotateArray = [None] * B\n",
    "    if not (isinstance (B,int)) or B<=0 or B>=100 or not (isinstance (K,int))or K<=0 or K>=100:\n",
    "        return (0)\n",
    "    while(K>0):\n",
    "        lastElement = A[B-1]\n",
    "        rotateArray[0] = lastElement\n",
    "        for i in range (0,B-1):\n",
    "            if  A[i] < -abs(1000) or A[i]>1000:\n",
    "                return (0)\n",
    "            rotateArray[i+1] = A[i]\n",
    "        A = rotateArray\n",
    "        rotateArray = [None]*B\n",
    "        K = K-1\n",
    "    return (A)\n",
    "A = [2,1,4,5,6,66,7,3,2,3,54,5,67]\n",
    "K = 5\n",
    "print(solution(A,K))"
   ]
  },
  {
   "cell_type": "code",
   "execution_count": null,
   "id": "19bbf0c5",
   "metadata": {},
   "outputs": [],
   "source": []
  }
 ],
 "metadata": {
  "kernelspec": {
   "display_name": "Python 3 (ipykernel)",
   "language": "python",
   "name": "python3"
  },
  "language_info": {
   "codemirror_mode": {
    "name": "ipython",
    "version": 3
   },
   "file_extension": ".py",
   "mimetype": "text/x-python",
   "name": "python",
   "nbconvert_exporter": "python",
   "pygments_lexer": "ipython3",
   "version": "3.9.7"
  }
 },
 "nbformat": 4,
 "nbformat_minor": 5
}
